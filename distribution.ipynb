{
 "cells": [
  {
   "cell_type": "code",
   "execution_count": 1,
   "metadata": {},
   "outputs": [
    {
     "data": {
      "text/html": [
       "<pre style=\"white-space:pre;overflow-x:auto;line-height:normal;font-family:Menlo,'DejaVu Sans Mono',consolas,'Courier New',monospace\">Manim Community <span style=\"color: #008000; text-decoration-color: #008000\">v0.17.3</span>\n",
       "\n",
       "</pre>\n"
      ],
      "text/plain": [
       "Manim Community \u001b[32mv0.\u001b[0m\u001b[32m17.3\u001b[0m\n",
       "\n"
      ]
     },
     "metadata": {},
     "output_type": "display_data"
    },
    {
     "name": "stderr",
     "output_type": "stream",
     "text": [
      "                                                                                        \r"
     ]
    },
    {
     "data": {
      "text/html": [
       "<video src=\"media/jupyter/NormalDistribution@2023-10-26@22-30-04.mp4\" controls autoplay loop style=\"max-width: 60%;\"  >\n",
       "      Your browser does not support the <code>video</code> element.\n",
       "    </video>"
      ],
      "text/plain": [
       "<IPython.core.display.Video object>"
      ]
     },
     "metadata": {},
     "output_type": "display_data"
    }
   ],
   "source": [
    "import scipy.stats as stat\n",
    "from manim import *\n",
    "from helpers import *\n",
    "\n",
    "from typing import TYPE_CHECKING\n",
    "from typing import Sequence\n",
    "U_SHAPED_DISTRIBUTION = [0.3, 0.15, 0.05, 0.05, 0.15, 0.3]\n",
    "\n",
    "class NormalDistribution(Scene):\n",
    "  def construct(self):\n",
    "    normal = stat.norm(60, 14)\n",
    "    ax = Axes(\n",
    "      x_range=[0, 100, 3],\n",
    "      y_range=[0, 10, 0.5],\n",
    "      tips=False,\n",
    "      axis_config={\"include_numbers\": True},\n",
    "    )\n",
    "    plot = ax.plot(lambda x: normal.pdf(x) * 10**2 )\n",
    "    self.play(Create(ax))\n",
    "    self.play(Create(plot))\n",
    "    bars = ChartBars(ax, U_SHAPED_DISTRIBUTION, xs=[0, 10, 20, 30, 40, 50, 60, 70, 80, 90, 100])\n",
    "    self.add(bars)\n",
    "    #self.play(Indicate(bars))\n",
    "    #self.wait(5)\n",
    "\n",
    "\n",
    "\n",
    "%manim -v WARNING -qm NormalDistribution\n"
   ]
  }
 ],
 "metadata": {
  "kernelspec": {
   "display_name": "manim",
   "language": "python",
   "name": "python3"
  },
  "language_info": {
   "codemirror_mode": {
    "name": "ipython",
    "version": 3
   },
   "file_extension": ".py",
   "mimetype": "text/x-python",
   "name": "python",
   "nbconvert_exporter": "python",
   "pygments_lexer": "ipython3",
   "version": "3.11.5"
  }
 },
 "nbformat": 4,
 "nbformat_minor": 2
}
