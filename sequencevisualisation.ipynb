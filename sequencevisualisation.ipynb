{
 "cells": [
  {
   "attachments": {},
   "cell_type": "markdown",
   "metadata": {},
   "source": [
    "### Sequence Visualisation\n",
    "I want to visualise a Geometric Sequence at the breaking point between steady state & exponential\n",
    "\n",
    "[Manim Decimal Number](https://docs.manim.community/en/stable/reference/manim.mobject.text.numbers.DecimalNumber.html#manim.mobject.text.numbers.DecimalNumber)\n",
    "\n",
    "Initial Attempt at making a geometric function\n",
    "```python\n",
    "        previous_values = []\n",
    "        def geofunc(x, initial):\n",
    "            if(previous_values == []):\n",
    "                previous_values.append(initial)\n",
    "            \n",
    "            new_x = 0.8*previous_values[-1]+23\n",
    "            previous_values.append(new_x)\n",
    "            return(new_x)\n",
    "            \n",
    "\n",
    "        curve = ax.plot(\n",
    "            lambda x: geofunc(x, 0.001),\n",
    "            color=RED,\n",
    "        )\n",
    "```\n"
   ]
  },
  {
   "cell_type": "code",
   "execution_count": 939,
   "metadata": {},
   "outputs": [],
   "source": [
    "from manim import *\n",
    "def endstartInterp(startValue, endValue):\n",
    "    values = [startValue]\n",
    "    print(endValue)\n",
    "    while endValue > values[-1]:\n",
    "        new_value = values[-1] + 1\n",
    "        values.append(new_value)\n",
    "    return values\n",
    "\n",
    "def generate_geo_func(initial, terms):\n",
    "    value_list = [initial]\n",
    "        \n",
    "    while terms >1:\n",
    "        nextvalue = 0.8*value_list[-1]+10\n",
    "        value_list.append(nextvalue)\n",
    "        terms -= 1\n",
    "    return (value_list)\n",
    "\n",
    "def SeqContinuer(self: Scene, TEX_Sequence, table: MathTable, Tn_Target, sen: MathTex):\n",
    "    tex = TEX_Sequence\n",
    "    Current_Tn_Target = Tn_Target\n",
    "    previous_values = table.get_rows()[1]\n",
    "    print(table.get_rows())\n",
    "\n",
    "    for n, val in enumerate(table.get_rows()[1]):\n",
    "        TermValue = str(val).split(\"'\")[1]\n",
    "        TermTableReference = table.get_rows()[0]\n",
    "        TermTableValueReference = table.get_rows()[1]\n",
    "        TermPreviousValue = int(str(table.get_rows()[1][n-1]).split(\"'\")[1])\n",
    "        Term = n+1\n",
    "        Current_Sequence = MathTex(\"{{T}}_{\", f\"{Term-1}\", \"+1}\", r\"=\", r\"(2 \\times\", f\"{TermPreviousValue})\", r\"-20\").move_to(TEX_Sequence)\n",
    "        print(Term)\n",
    "        if n == 0:\n",
    "            continue\n",
    "        if n == 2:\n",
    "            newGSWhere = MathTex(r\"\\text{where}\").next_to(TEX_Sequence, RIGHT)\n",
    "            sen.set_x(500)\n",
    "            self.play(ReplacementTransform(newGSWhere, TEX_Sequence))            \n",
    "        if n > 2:\n",
    "            self.play(Write(TEX_Sequence))\n",
    "        self.play(\n",
    "            TransformMatchingTex(TEX_Sequence, Current_Sequence.shift(DOWN/2).align_to(TEX_Sequence, LEFT)),\n",
    "            lag_ratio=0.25,\n",
    "            run_time=1.5\n",
    "        )\n",
    "        self.play(\n",
    "            ReplacementTransform(Current_Sequence, MathTex(f\"{TermValue}\").move_to(previous_values[n])),\n",
    "        )\n",
    "\n",
    "    return(table)\n",
    "\n",
    "\n",
    "    # for e in previous_values:\n",
    "    #     f = str(e).split(\"'\")\n",
    "    #     print(f\"The Value is: {f}\")\n",
    "    #     self.play(\n",
    "    #         TransformMatchingTex(TEX_Sequence, MathTex(f\"T_{'{'}{Current_Tn_Target - 1}+1{'}'}\"))\n",
    "    #     )\n",
    "    #     Current_Tn_Target += 1\n"
   ]
  },
  {
   "cell_type": "code",
   "execution_count": 940,
   "metadata": {},
   "outputs": [],
   "source": [
    "from manim import *\n",
    "import numpy as np\n",
    "class ExampleTest(Scene):\n",
    "    def construct(self):\n",
    "        GeoSequenece = MathTex(r\"{{T}}_{ {{n}} + 1}\", r\"=\", r\"2\", r\"T_n\", r\"-20\").shift(LEFT, UP*3)\n",
    "        GSWhere = MathTex(r\"\\text{ where }\", r\"T_1\", r\"=\", r\"5\").next_to(GeoSequenece, RIGHT)\n",
    "        \n",
    "\n",
    "        t0 = MathTable(\n",
    "            [[\"T_{{1}}\", \"T_{{2}}\", \"T_{{3}}\", \"T_{{4}}\"],\n",
    "            [5, -10, -40, -100]],\n",
    "            include_outer_lines=True,\n",
    "            v_buff=0.5\n",
    "            )\n",
    "        t0Entries = t0.get_entries()\n",
    "        Sentence = VGroup(GeoSequenece, GSWhere)\n",
    "        SentenceTemp = VGroup(GeoSequenece, GSWhere[0], GSWhere[2])\n",
    "        self.add(Sentence)\n",
    "\n",
    "\n",
    "        \n",
    "        self.play(\n",
    "                    FadeTransformPieces(GSWhere[1], t0Entries[0]),\n",
    "                    FadeOut(GSWhere[2]),\n",
    "                    Wait(0.3),\n",
    "                    FadeTransformPieces(GSWhere[3], t0Entries[4])\n",
    "                )\n",
    "        self.play(Write(t0.get_rows()[0].remove(t0Entries[0])), Write(t0.get_vertical_lines()))\n",
    "        newt0 = SeqContinuer(self, GeoSequenece, t0, 2, GSWhere)\n",
    "\n",
    "        \n",
    "        \n",
    "        ax = Axes(\n",
    "            axis_config={\n",
    "                \"include_numbers\": True\n",
    "            },\n",
    "            tips=True,\n",
    "            x_range=[1, 10],\n",
    "            y_range=[0, 100, 10]\n",
    "        ).shift(RIGHT*2)\n",
    "        curve = ax.plot_line_graph(\n",
    "                x_values=endstartInterp(ax.x_range[0], ax.x_range[1]),\n",
    "                y_values=generate_geo_func(10, ax.x_range[-2])\n",
    "                \n",
    "        ) # can use VGROUP to combine\n",
    "        self.play(Transform(newt0, t0.shift(UP)))\n",
    "        self.play(Write(ax))\n",
    "        self.next_section()\n",
    "        self.play(Write(ax))\n",
    "\n",
    "\n",
    "\n",
    "\n",
    "    "
   ]
  },
  {
   "cell_type": "code",
   "execution_count": 941,
   "metadata": {},
   "outputs": [
    {
     "name": "stderr",
     "output_type": "stream",
     "text": [
      "                                                                                        \r"
     ]
    },
    {
     "name": "stdout",
     "output_type": "stream",
     "text": [
      "VGroup of 2 submobjects\n",
      "1\n",
      "2\n"
     ]
    },
    {
     "name": "stderr",
     "output_type": "stream",
     "text": [
      "                                                                                                                   \r"
     ]
    },
    {
     "name": "stdout",
     "output_type": "stream",
     "text": [
      "3\n"
     ]
    },
    {
     "name": "stderr",
     "output_type": "stream",
     "text": [
      "                                                                                                                     \r"
     ]
    },
    {
     "name": "stdout",
     "output_type": "stream",
     "text": [
      "4\n"
     ]
    },
    {
     "name": "stderr",
     "output_type": "stream",
     "text": [
      "                                                                                                                     \r"
     ]
    },
    {
     "name": "stdout",
     "output_type": "stream",
     "text": [
      "10\n"
     ]
    },
    {
     "name": "stderr",
     "output_type": "stream",
     "text": [
      "                                                                                           \r"
     ]
    },
    {
     "data": {
      "text/html": [
       "<video src=\"media/jupyter/ExampleTest@2023-06-25@02-28-13.mp4\" controls autoplay loop style=\"max-width: 60%;\"  >\n",
       "      Your browser does not support the <code>video</code> element.\n",
       "    </video>"
      ],
      "text/plain": [
       "<IPython.core.display.Video object>"
      ]
     },
     "metadata": {},
     "output_type": "display_data"
    }
   ],
   "source": [
    "%manim -v WARNING -qm ExampleTest\n"
   ]
  }
 ],
 "metadata": {
  "kernelspec": {
   "display_name": "manim",
   "language": "python",
   "name": "python3"
  },
  "language_info": {
   "codemirror_mode": {
    "name": "ipython",
    "version": 3
   },
   "file_extension": ".py",
   "mimetype": "text/x-python",
   "name": "python",
   "nbconvert_exporter": "python",
   "pygments_lexer": "ipython3",
   "version": "3.11.4"
  },
  "orig_nbformat": 4,
  "vscode": {
   "interpreter": {
    "hash": "66a02b8d9eb11c00fee95fa2b7d7c655a26f0f166fb114e65e341306d9ddaedd"
   }
  }
 },
 "nbformat": 4,
 "nbformat_minor": 2
}
