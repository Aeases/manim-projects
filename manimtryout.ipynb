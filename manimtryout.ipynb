{
 "cells": [
  {
   "cell_type": "code",
   "execution_count": 3,
   "metadata": {},
   "outputs": [],
   "source": [
    "from manim import *\n"
   ]
  },
  {
   "cell_type": "code",
   "execution_count": 4,
   "metadata": {},
   "outputs": [
    {
     "name": "stderr",
     "output_type": "stream",
     "text": [
      "                                                                                                        \r"
     ]
    },
    {
     "data": {
      "text/html": [
       "<video src=\"media/jupyter/LogScalingExample@2023-06-24@11-15-00.mp4\" controls autoplay loop style=\"max-width: 60%;\"  >\n",
       "      Your browser does not support the <code>video</code> element.\n",
       "    </video>"
      ],
      "text/plain": [
       "<IPython.core.display.Video object>"
      ]
     },
     "metadata": {},
     "output_type": "display_data"
    }
   ],
   "source": [
    "%%manim -v WARNING -qm LogScalingExample\n",
    "class LogScalingExample(Scene):\n",
    "    def construct(self):\n",
    "        ax = Axes(\n",
    "            x_range=[0, 30, 5],\n",
    "            y_range=[0, 12, 2],\n",
    "            tips=True,\n",
    "            x_axis_config={\n",
    "                \"unit_size\": 5,\n",
    "                \"include_numbers\": True\n",
    "            }\n",
    "        )\n",
    "        t1 = Table(\n",
    "            [\n",
    "                ['Month', 'Session', 'Value'],\n",
    "                ['', 'Morning', '15']\n",
    "            ]\n",
    "        )\n",
    "\n",
    "        brace = Brace(t1, direction=RIGHT)\n",
    "        self.play(FadeIn(t1))\n",
    "        self.play(Write(brace))\n",
    "        TraTEX = r\"\\frac{omg}{donald}\"\n",
    "        TraTest = MathTex(TraTEX)\n",
    "        self.play(FadeTransform(t1, TraTest))\n",
    "        TraTest2 = MathTex(TraTEX + r\"\\div 5\")\n",
    "        self.play(Transform(TraTest, TraTest2))\n",
    "        self.play()\n",
    "        MaintainPositionRelativeTo"
   ]
  }
 ],
 "metadata": {
  "kernelspec": {
   "display_name": "manim",
   "language": "python",
   "name": "python3"
  },
  "language_info": {
   "codemirror_mode": {
    "name": "ipython",
    "version": 3
   },
   "file_extension": ".py",
   "mimetype": "text/x-python",
   "name": "python",
   "nbconvert_exporter": "python",
   "pygments_lexer": "ipython3",
   "version": "3.11.4 | packaged by conda-forge | (main, Jun 10 2023, 18:08:17) [GCC 12.2.0]"
  },
  "orig_nbformat": 4,
  "vscode": {
   "interpreter": {
    "hash": "66a02b8d9eb11c00fee95fa2b7d7c655a26f0f166fb114e65e341306d9ddaedd"
   }
  }
 },
 "nbformat": 4,
 "nbformat_minor": 2
}
